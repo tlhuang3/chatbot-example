{
 "cells": [
  {
   "cell_type": "code",
   "execution_count": 21,
   "metadata": {},
   "outputs": [],
   "source": [
    "import os\n",
    "from langchain_openai import OpenAIEmbeddings\n",
    "from langchain_pinecone import PineconeVectorStore\n",
    "from langchain_text_splitters import RecursiveCharacterTextSplitter\n",
    "from pinecone import Pinecone"
   ]
  },
  {
   "cell_type": "code",
   "execution_count": 23,
   "metadata": {},
   "outputs": [
    {
     "data": {
      "text/plain": [
       "True"
      ]
     },
     "execution_count": 23,
     "metadata": {},
     "output_type": "execute_result"
    }
   ],
   "source": [
    "from dotenv import load_dotenv\n",
    "\n",
    "load_dotenv()"
   ]
  },
  {
   "cell_type": "code",
   "execution_count": 2,
   "metadata": {},
   "outputs": [],
   "source": [
    "embeddings = OpenAIEmbeddings(model='text-embedding-ada-002')"
   ]
  },
  {
   "cell_type": "code",
   "execution_count": 7,
   "metadata": {},
   "outputs": [],
   "source": [
    "text_splitter = RecursiveCharacterTextSplitter(chunk_size=500, chunk_overlap=20)\n"
   ]
  },
  {
   "cell_type": "code",
   "execution_count": 9,
   "metadata": {},
   "outputs": [],
   "source": [
    "with open(\"../Nvidia_2024_Quarterly_Results/NVIDIA_1st_quarter_2024.txt\") as fh:\n",
    "    tt  = fh.read()\n",
    "    splits = text_splitter.split_text(tt)\n",
    "    doc = text_splitter.create_documents(splits) #this should return the list of documents."
   ]
  },
  {
   "cell_type": "code",
   "execution_count": 17,
   "metadata": {},
   "outputs": [
    {
     "data": {
      "text/plain": [
       "57"
      ]
     },
     "execution_count": 17,
     "metadata": {},
     "output_type": "execute_result"
    }
   ],
   "source": [
    "len(doc)"
   ]
  },
  {
   "cell_type": "code",
   "execution_count": 13,
   "metadata": {},
   "outputs": [
    {
     "data": {
      "text/plain": [
       "'NVIDIA Corporation - NVIDIA Announces Financial Results for First Quarter Fiscal 2024\\nSkip to main content\\nNewsEvents & Presentations\\nEvents & PresentationsPresentations\\nStock Info\\nStock Quote & ChartHistorical Price LookupInvestment CalculatorFundamentalsAnalyst Coverage\\nFinancial Info\\nFinancial ReportsSEC FilingsQuarterly ResultsAnnual Reports and ProxiesAnnual Meeting\\nGovernance\\nManagement TeamBoard of DirectorsGovernance DocumentsCommittee CompositionContact the Board\\nInvestor Resources'"
      ]
     },
     "execution_count": 13,
     "metadata": {},
     "output_type": "execute_result"
    }
   ],
   "source": [
    "doc[0].page_content"
   ]
  },
  {
   "cell_type": "code",
   "execution_count": 14,
   "metadata": {},
   "outputs": [],
   "source": [
    "embedding = embeddings.embed_documents([doc[0].page_content])"
   ]
  },
  {
   "cell_type": "code",
   "execution_count": 20,
   "metadata": {},
   "outputs": [],
   "source": [
    "def read_file(filename):\n",
    "  fh = open(filename, \"r\")\n",
    "  try:\n",
    "      return fh.read()\n",
    "  finally:\n",
    "      fh.close()"
   ]
  },
  {
   "cell_type": "code",
   "execution_count": 24,
   "metadata": {},
   "outputs": [
    {
     "name": "stdout",
     "output_type": "stream",
     "text": [
      "Connecting to Pinecone index\n"
     ]
    },
    {
     "data": {
      "text/plain": [
       "{'dimension': 1536,\n",
       " 'index_fullness': 0.0,\n",
       " 'namespaces': {},\n",
       " 'total_vector_count': 0}"
      ]
     },
     "execution_count": 24,
     "metadata": {},
     "output_type": "execute_result"
    }
   ],
   "source": [
    "pc = Pinecone()\n",
    "\n",
    "print(\"Connecting to Pinecone index\")\n",
    "index_name = 'chatbot-example-nvidia-quarter'\n",
    "index = pc.Index(index_name)\n",
    "index.describe_index_stats()\n",
    "\n",
    "# text_field = \"text\"\n",
    "# # embeddings = OpenAIEmbeddings(model='text-embedding-ada-002')\n",
    "# # # vectorstore = PineconeVectorStore(index, embeddings, text_field)"
   ]
  },
  {
   "cell_type": "code",
   "execution_count": 25,
   "metadata": {},
   "outputs": [],
   "source": [
    "directory = \"../Nvidia_2024_Quarterly_Results\"\n",
    "for filename in os.listdir(directory):\n",
    "        if filename.endswith(('.txt', '.docx', '.pdf', '.csv')):\n",
    "            file_path = os.path.join(directory, filename)\n",
    "            content = read_file(file_path)\n",
    "            splits = text_splitter.split_text(content)\n",
    "            doc = text_splitter.create_documents(splits) #this should return the list of documents.\n",
    "            for i in range(len(doc)):\n",
    "                embedding = embeddings.embed_documents([doc[i].page_content])[0]\n",
    "                \n",
    "                meta = {'text': doc[i].page_content}\n",
    "\n",
    "                index.upsert(vectors=[(f\"{filename}_doc{i}\", embedding, meta)])\n",
    "                "
   ]
  }
 ],
 "metadata": {
  "kernelspec": {
   "display_name": "llm_prac",
   "language": "python",
   "name": "python3"
  },
  "language_info": {
   "codemirror_mode": {
    "name": "ipython",
    "version": 3
   },
   "file_extension": ".py",
   "mimetype": "text/x-python",
   "name": "python",
   "nbconvert_exporter": "python",
   "pygments_lexer": "ipython3",
   "version": "3.11.7"
  }
 },
 "nbformat": 4,
 "nbformat_minor": 2
}
