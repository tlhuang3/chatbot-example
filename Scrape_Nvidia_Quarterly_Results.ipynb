{
 "cells": [
  {
   "cell_type": "code",
   "execution_count": 2,
   "id": "e9cd81b6-462c-497d-9b95-893b1f20cbae",
   "metadata": {},
   "outputs": [],
   "source": [
    "from bs4 import BeautifulSoup"
   ]
  },
  {
   "cell_type": "code",
   "execution_count": 17,
   "id": "08b79368-9764-4801-80bd-49679388d605",
   "metadata": {},
   "outputs": [],
   "source": [
    "with open(\"Nvidia_2024_Quarterly_Results/NVIDIA_4th_quarter_2024.html\") as html_file:\n",
    "    hh = html_file.read()"
   ]
  },
  {
   "cell_type": "code",
   "execution_count": 26,
   "id": "8006bc42-3d38-4537-93bf-652abfcb992c",
   "metadata": {},
   "outputs": [],
   "source": [
    "def html2text(html_file_path, output_file_path):\n",
    "    with open(html_file_path) as html_file:\n",
    "        hh = html_file.read()\n",
    "    soup = BeautifulSoup(hh, features=\"html.parser\")\n",
    "    \n",
    "    # kill all script and style elements\n",
    "    for script in soup([\"script\", \"style\"]):\n",
    "        script.extract()    # rip it out\n",
    "    \n",
    "    # get text\n",
    "    text = soup.get_text()\n",
    "    \n",
    "    # break into lines and remove leading and trailing space on each\n",
    "    lines = (line.strip() for line in text.splitlines())\n",
    "    # break multi-headlines into a line each\n",
    "    chunks = (phrase.strip() for line in lines for phrase in line.split(\"  \"))\n",
    "    # drop blank lines\n",
    "    text = '\\n'.join(chunk for chunk in chunks if chunk)\n",
    "\n",
    "    with open(output_file_path, \"w\") as output_file:\n",
    "        output_file.write(text)"
   ]
  },
  {
   "cell_type": "code",
   "execution_count": 30,
   "id": "7fa81017-e0dd-4b41-944e-687a9b6a0aa8",
   "metadata": {},
   "outputs": [],
   "source": [
    "\n",
    "# import required module\n",
    "import os\n",
    " \n",
    "# assign directory\n",
    "directory = 'Nvidia_2024_Quarterly_Results'\n",
    " \n",
    "# iterate over files in \n",
    "# that directory\n",
    "for filename in os.scandir(directory):\n",
    "    if filename.is_file():\n",
    "        # print(filename.path)\n",
    "        html_file_path = filename.path\n",
    "        output_file_path = filename.path[:-5] + \".txt\"\n",
    "        html2text(html_file_path, output_file_path)"
   ]
  },
  {
   "cell_type": "code",
   "execution_count": null,
   "id": "89ed6476-e9ab-48c3-99db-9d2096bfade8",
   "metadata": {},
   "outputs": [],
   "source": []
  }
 ],
 "metadata": {
  "kernelspec": {
   "display_name": "Python 3 (ipykernel)",
   "language": "python",
   "name": "python3"
  },
  "language_info": {
   "codemirror_mode": {
    "name": "ipython",
    "version": 3
   },
   "file_extension": ".py",
   "mimetype": "text/x-python",
   "name": "python",
   "nbconvert_exporter": "python",
   "pygments_lexer": "ipython3",
   "version": "3.11.7"
  }
 },
 "nbformat": 4,
 "nbformat_minor": 5
}
